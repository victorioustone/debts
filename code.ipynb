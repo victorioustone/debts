{
 "cells": [
  {
   "cell_type": "markdown",
   "metadata": {},
   "source": [
    "Некоторые начальные данные"
   ]
  },
  {
   "cell_type": "code",
   "execution_count": 1,
   "metadata": {},
   "outputs": [],
   "source": [
    "# некоторые начальные данные\n",
    "table1 = {'Должник': ['Лицо 01', 'Лицо 02', 'Лицо 02', 'Лицо 02', 'Лицо 04'], \n",
    "          'Кредитор': ['Лицо 02', 'Лицо 01', 'Лицо 04', 'Лицо 04', 'Лицо 01'],\n",
    "          'Cумма долга': [500, 200, 150, 250, 100]}"
   ]
  },
  {
   "cell_type": "markdown",
   "metadata": {},
   "source": [
    "#### Я буду использовать библиотеку pandas для дальнейшей работы"
   ]
  },
  {
   "cell_type": "code",
   "execution_count": 2,
   "metadata": {},
   "outputs": [],
   "source": [
    "import pandas as pd\n",
    "import random"
   ]
  },
  {
   "cell_type": "code",
   "execution_count": 3,
   "metadata": {},
   "outputs": [
    {
     "data": {
      "text/html": [
       "<div>\n",
       "<style scoped>\n",
       "    .dataframe tbody tr th:only-of-type {\n",
       "        vertical-align: middle;\n",
       "    }\n",
       "\n",
       "    .dataframe tbody tr th {\n",
       "        vertical-align: top;\n",
       "    }\n",
       "\n",
       "    .dataframe thead th {\n",
       "        text-align: right;\n",
       "    }\n",
       "</style>\n",
       "<table border=\"1\" class=\"dataframe\">\n",
       "  <thead>\n",
       "    <tr style=\"text-align: right;\">\n",
       "      <th></th>\n",
       "      <th>Должник</th>\n",
       "      <th>Кредитор</th>\n",
       "      <th>Cумма долга</th>\n",
       "    </tr>\n",
       "  </thead>\n",
       "  <tbody>\n",
       "    <tr>\n",
       "      <th>1</th>\n",
       "      <td>Лицо 01</td>\n",
       "      <td>Лицо 02</td>\n",
       "      <td>500</td>\n",
       "    </tr>\n",
       "    <tr>\n",
       "      <th>2</th>\n",
       "      <td>Лицо 02</td>\n",
       "      <td>Лицо 01</td>\n",
       "      <td>200</td>\n",
       "    </tr>\n",
       "    <tr>\n",
       "      <th>3</th>\n",
       "      <td>Лицо 02</td>\n",
       "      <td>Лицо 04</td>\n",
       "      <td>150</td>\n",
       "    </tr>\n",
       "    <tr>\n",
       "      <th>4</th>\n",
       "      <td>Лицо 02</td>\n",
       "      <td>Лицо 04</td>\n",
       "      <td>250</td>\n",
       "    </tr>\n",
       "    <tr>\n",
       "      <th>5</th>\n",
       "      <td>Лицо 04</td>\n",
       "      <td>Лицо 01</td>\n",
       "      <td>100</td>\n",
       "    </tr>\n",
       "  </tbody>\n",
       "</table>\n",
       "</div>"
      ],
      "text/plain": [
       "   Должник Кредитор  Cумма долга\n",
       "1  Лицо 01  Лицо 02          500\n",
       "2  Лицо 02  Лицо 01          200\n",
       "3  Лицо 02  Лицо 04          150\n",
       "4  Лицо 02  Лицо 04          250\n",
       "5  Лицо 04  Лицо 01          100"
      ]
     },
     "execution_count": 3,
     "metadata": {},
     "output_type": "execute_result"
    }
   ],
   "source": [
    "debts = pd.DataFrame(table1)\n",
    "debts.index += 1\n",
    "debts"
   ]
  },
  {
   "cell_type": "markdown",
   "metadata": {},
   "source": [
    "сгруппирую идентичные строки"
   ]
  },
  {
   "cell_type": "code",
   "execution_count": 4,
   "metadata": {},
   "outputs": [
    {
     "data": {
      "text/html": [
       "<div>\n",
       "<style scoped>\n",
       "    .dataframe tbody tr th:only-of-type {\n",
       "        vertical-align: middle;\n",
       "    }\n",
       "\n",
       "    .dataframe tbody tr th {\n",
       "        vertical-align: top;\n",
       "    }\n",
       "\n",
       "    .dataframe thead th {\n",
       "        text-align: right;\n",
       "    }\n",
       "</style>\n",
       "<table border=\"1\" class=\"dataframe\">\n",
       "  <thead>\n",
       "    <tr style=\"text-align: right;\">\n",
       "      <th></th>\n",
       "      <th>Должник</th>\n",
       "      <th>Кредитор</th>\n",
       "      <th>Cумма долга</th>\n",
       "    </tr>\n",
       "  </thead>\n",
       "  <tbody>\n",
       "    <tr>\n",
       "      <th>0</th>\n",
       "      <td>Лицо 01</td>\n",
       "      <td>Лицо 02</td>\n",
       "      <td>500</td>\n",
       "    </tr>\n",
       "    <tr>\n",
       "      <th>1</th>\n",
       "      <td>Лицо 02</td>\n",
       "      <td>Лицо 01</td>\n",
       "      <td>200</td>\n",
       "    </tr>\n",
       "    <tr>\n",
       "      <th>2</th>\n",
       "      <td>Лицо 02</td>\n",
       "      <td>Лицо 04</td>\n",
       "      <td>400</td>\n",
       "    </tr>\n",
       "    <tr>\n",
       "      <th>3</th>\n",
       "      <td>Лицо 04</td>\n",
       "      <td>Лицо 01</td>\n",
       "      <td>100</td>\n",
       "    </tr>\n",
       "  </tbody>\n",
       "</table>\n",
       "</div>"
      ],
      "text/plain": [
       "   Должник Кредитор  Cумма долга\n",
       "0  Лицо 01  Лицо 02          500\n",
       "1  Лицо 02  Лицо 01          200\n",
       "2  Лицо 02  Лицо 04          400\n",
       "3  Лицо 04  Лицо 01          100"
      ]
     },
     "execution_count": 4,
     "metadata": {},
     "output_type": "execute_result"
    }
   ],
   "source": [
    "first_groupby = debts.groupby(['Должник', 'Кредитор']).sum().reset_index()\n",
    "first_groupby "
   ]
  },
  {
   "cell_type": "markdown",
   "metadata": {},
   "source": [
    "Теперь необходимо поработать со взаиморасчетами между одними и теми же лицами.  \n",
    "Я копирую таблицу и меняю в ней местами столбцы (а затем имена столбцов возвращаю. Полученную сумму долга я умножаю на -1. Можно представить, что это \"уход денежных средств\"."
   ]
  },
  {
   "cell_type": "code",
   "execution_count": 5,
   "metadata": {},
   "outputs": [
    {
     "data": {
      "text/html": [
       "<div>\n",
       "<style scoped>\n",
       "    .dataframe tbody tr th:only-of-type {\n",
       "        vertical-align: middle;\n",
       "    }\n",
       "\n",
       "    .dataframe tbody tr th {\n",
       "        vertical-align: top;\n",
       "    }\n",
       "\n",
       "    .dataframe thead th {\n",
       "        text-align: right;\n",
       "    }\n",
       "</style>\n",
       "<table border=\"1\" class=\"dataframe\">\n",
       "  <thead>\n",
       "    <tr style=\"text-align: right;\">\n",
       "      <th></th>\n",
       "      <th>Должник</th>\n",
       "      <th>Кредитор</th>\n",
       "      <th>Cумма долга</th>\n",
       "    </tr>\n",
       "  </thead>\n",
       "  <tbody>\n",
       "    <tr>\n",
       "      <th>0</th>\n",
       "      <td>Лицо 01</td>\n",
       "      <td>Лицо 02</td>\n",
       "      <td>-200</td>\n",
       "    </tr>\n",
       "    <tr>\n",
       "      <th>1</th>\n",
       "      <td>Лицо 01</td>\n",
       "      <td>Лицо 04</td>\n",
       "      <td>-100</td>\n",
       "    </tr>\n",
       "    <tr>\n",
       "      <th>2</th>\n",
       "      <td>Лицо 02</td>\n",
       "      <td>Лицо 01</td>\n",
       "      <td>-500</td>\n",
       "    </tr>\n",
       "    <tr>\n",
       "      <th>3</th>\n",
       "      <td>Лицо 04</td>\n",
       "      <td>Лицо 02</td>\n",
       "      <td>-400</td>\n",
       "    </tr>\n",
       "  </tbody>\n",
       "</table>\n",
       "</div>"
      ],
      "text/plain": [
       "   Должник Кредитор  Cумма долга\n",
       "0  Лицо 01  Лицо 02         -200\n",
       "1  Лицо 01  Лицо 04         -100\n",
       "2  Лицо 02  Лицо 01         -500\n",
       "3  Лицо 04  Лицо 02         -400"
      ]
     },
     "execution_count": 5,
     "metadata": {},
     "output_type": "execute_result"
    }
   ],
   "source": [
    "# теперь необходимо поработать со взаиморасчетами между одними и теми же лицами\n",
    "\n",
    "extra_debts = first_groupby.copy(deep=False)\n",
    "extra_debts.rename(columns = {'Должник' : 'Кредитор', 'Кредитор' : 'Должник'}, inplace = True) \n",
    "extra_debts = extra_debts.reindex(columns=['Должник','Кредитор','Cумма долга'])\n",
    "extra_debts['Cумма долга'] = extra_debts['Cумма долга'].apply(lambda x: x* (-1))\n",
    "extra_debts_groupby = extra_debts.groupby(['Должник', 'Кредитор']).sum().reset_index()\n",
    "extra_debts_groupby "
   ]
  },
  {
   "cell_type": "markdown",
   "metadata": {},
   "source": [
    "Теперь дело остается за малым - объединить две полученные таблицы и применить группировку. Оставшиеся отрицательные числа нам не понадобятся, ведь это не уже не долг. Убираю их. И для красоты обновляю индексирование. "
   ]
  },
  {
   "cell_type": "code",
   "execution_count": 6,
   "metadata": {},
   "outputs": [
    {
     "data": {
      "text/html": [
       "<div>\n",
       "<style scoped>\n",
       "    .dataframe tbody tr th:only-of-type {\n",
       "        vertical-align: middle;\n",
       "    }\n",
       "\n",
       "    .dataframe tbody tr th {\n",
       "        vertical-align: top;\n",
       "    }\n",
       "\n",
       "    .dataframe thead th {\n",
       "        text-align: right;\n",
       "    }\n",
       "</style>\n",
       "<table border=\"1\" class=\"dataframe\">\n",
       "  <thead>\n",
       "    <tr style=\"text-align: right;\">\n",
       "      <th></th>\n",
       "      <th>Должник</th>\n",
       "      <th>Кредитор</th>\n",
       "      <th>Cумма долга</th>\n",
       "    </tr>\n",
       "  </thead>\n",
       "  <tbody>\n",
       "    <tr>\n",
       "      <th>1</th>\n",
       "      <td>Лицо 01</td>\n",
       "      <td>Лицо 02</td>\n",
       "      <td>300</td>\n",
       "    </tr>\n",
       "    <tr>\n",
       "      <th>2</th>\n",
       "      <td>Лицо 02</td>\n",
       "      <td>Лицо 04</td>\n",
       "      <td>400</td>\n",
       "    </tr>\n",
       "    <tr>\n",
       "      <th>3</th>\n",
       "      <td>Лицо 04</td>\n",
       "      <td>Лицо 01</td>\n",
       "      <td>100</td>\n",
       "    </tr>\n",
       "  </tbody>\n",
       "</table>\n",
       "</div>"
      ],
      "text/plain": [
       "   Должник Кредитор  Cумма долга\n",
       "1  Лицо 01  Лицо 02          300\n",
       "2  Лицо 02  Лицо 04          400\n",
       "3  Лицо 04  Лицо 01          100"
      ]
     },
     "execution_count": 6,
     "metadata": {},
     "output_type": "execute_result"
    }
   ],
   "source": [
    "final_result = pd.concat([first_groupby , extra_debts_groupby]).groupby(['Должник', 'Кредитор']).sum().reset_index()\n",
    "final_result.drop(final_result[final_result['Cумма долга'] < 0].index, inplace = True)\n",
    "final_result.reset_index(inplace = True)\n",
    "final_result.drop(columns='index', inplace = True)\n",
    "final_result.index += 1 \n",
    "final_result"
   ]
  },
  {
   "cell_type": "markdown",
   "metadata": {},
   "source": [
    "Полученное решение дало верный результат. Для нагладности, сгенерирую побольше данных и использую уже их, а результат обработки запишу в файл _report.csv_"
   ]
  },
  {
   "cell_type": "code",
   "execution_count": 7,
   "metadata": {},
   "outputs": [],
   "source": [
    "# генерация данных\n",
    "list_of_people = []\n",
    "for i in range(1,15):\n",
    "    list_of_people.append('Лицо 0' + str(i)) if i < 10 else list_of_people.append('Лицо ' + str(i))\n",
    "\n",
    "res = []\n",
    "for _ in range(200):\n",
    "    res.append(random.choices(list_of_people, k=2))\n",
    "res = list(filter(lambda x: x[0] != x[1], res))\n",
    "for i in res:   \n",
    "    i.append(random.randrange(10, 1000, 25))"
   ]
  },
  {
   "cell_type": "code",
   "execution_count": 8,
   "metadata": {},
   "outputs": [
    {
     "data": {
      "text/html": [
       "<div>\n",
       "<style scoped>\n",
       "    .dataframe tbody tr th:only-of-type {\n",
       "        vertical-align: middle;\n",
       "    }\n",
       "\n",
       "    .dataframe tbody tr th {\n",
       "        vertical-align: top;\n",
       "    }\n",
       "\n",
       "    .dataframe thead th {\n",
       "        text-align: right;\n",
       "    }\n",
       "</style>\n",
       "<table border=\"1\" class=\"dataframe\">\n",
       "  <thead>\n",
       "    <tr style=\"text-align: right;\">\n",
       "      <th></th>\n",
       "      <th>Должник</th>\n",
       "      <th>Кредитор</th>\n",
       "      <th>Cумма долга</th>\n",
       "    </tr>\n",
       "  </thead>\n",
       "  <tbody>\n",
       "    <tr>\n",
       "      <th>1</th>\n",
       "      <td>Лицо 08</td>\n",
       "      <td>Лицо 04</td>\n",
       "      <td>310</td>\n",
       "    </tr>\n",
       "    <tr>\n",
       "      <th>2</th>\n",
       "      <td>Лицо 06</td>\n",
       "      <td>Лицо 12</td>\n",
       "      <td>185</td>\n",
       "    </tr>\n",
       "    <tr>\n",
       "      <th>3</th>\n",
       "      <td>Лицо 13</td>\n",
       "      <td>Лицо 08</td>\n",
       "      <td>485</td>\n",
       "    </tr>\n",
       "    <tr>\n",
       "      <th>4</th>\n",
       "      <td>Лицо 08</td>\n",
       "      <td>Лицо 03</td>\n",
       "      <td>985</td>\n",
       "    </tr>\n",
       "    <tr>\n",
       "      <th>5</th>\n",
       "      <td>Лицо 08</td>\n",
       "      <td>Лицо 03</td>\n",
       "      <td>260</td>\n",
       "    </tr>\n",
       "  </tbody>\n",
       "</table>\n",
       "</div>"
      ],
      "text/plain": [
       "   Должник Кредитор  Cумма долга\n",
       "1  Лицо 08  Лицо 04          310\n",
       "2  Лицо 06  Лицо 12          185\n",
       "3  Лицо 13  Лицо 08          485\n",
       "4  Лицо 08  Лицо 03          985\n",
       "5  Лицо 08  Лицо 03          260"
      ]
     },
     "execution_count": 8,
     "metadata": {},
     "output_type": "execute_result"
    }
   ],
   "source": [
    "debts_2 = pd.DataFrame(res, columns = ['Должник', 'Кредитор', 'Cумма долга'])\n",
    "debts_2.index += 1 \n",
    "debts_2.to_csv('./data', index_label='№')\n",
    "debts_2.head()"
   ]
  },
  {
   "cell_type": "code",
   "execution_count": 9,
   "metadata": {},
   "outputs": [],
   "source": [
    "# 1\n",
    "first_groupby = debts_2.groupby(['Должник', 'Кредитор']).sum().reset_index()\n",
    "# 2\n",
    "extra_debts = first_groupby.copy(deep=False)\n",
    "extra_debts.rename(columns = {'Должник' : 'Кредитор', 'Кредитор' : 'Должник'}, inplace = True) \n",
    "extra_debts = extra_debts.reindex(columns=['Должник','Кредитор','Cумма долга'])\n",
    "extra_debts['Cумма долга'] = extra_debts['Cумма долга'].apply(lambda x: x* (-1))\n",
    "extra_debts_groupby = extra_debts.groupby(['Должник', 'Кредитор']).sum().reset_index()\n",
    "# 3\n",
    "final_result = pd.concat([first_groupby , extra_debts_groupby]).groupby(['Должник', 'Кредитор']).sum().reset_index()\n",
    "final_result.drop(final_result[final_result['Cумма долга'] <= 0].index, inplace = True)\n",
    "final_result.reset_index(inplace = True)\n",
    "final_result.drop(columns='index', inplace = True)\n",
    "final_result.index += 1 "
   ]
  },
  {
   "cell_type": "code",
   "execution_count": 10,
   "metadata": {},
   "outputs": [
    {
     "data": {
      "text/html": [
       "<div>\n",
       "<style scoped>\n",
       "    .dataframe tbody tr th:only-of-type {\n",
       "        vertical-align: middle;\n",
       "    }\n",
       "\n",
       "    .dataframe tbody tr th {\n",
       "        vertical-align: top;\n",
       "    }\n",
       "\n",
       "    .dataframe thead th {\n",
       "        text-align: right;\n",
       "    }\n",
       "</style>\n",
       "<table border=\"1\" class=\"dataframe\">\n",
       "  <thead>\n",
       "    <tr style=\"text-align: right;\">\n",
       "      <th></th>\n",
       "      <th>Должник</th>\n",
       "      <th>Кредитор</th>\n",
       "      <th>Cумма долга</th>\n",
       "    </tr>\n",
       "  </thead>\n",
       "  <tbody>\n",
       "    <tr>\n",
       "      <th>1</th>\n",
       "      <td>Лицо 01</td>\n",
       "      <td>Лицо 03</td>\n",
       "      <td>285</td>\n",
       "    </tr>\n",
       "    <tr>\n",
       "      <th>2</th>\n",
       "      <td>Лицо 01</td>\n",
       "      <td>Лицо 04</td>\n",
       "      <td>1320</td>\n",
       "    </tr>\n",
       "    <tr>\n",
       "      <th>3</th>\n",
       "      <td>Лицо 01</td>\n",
       "      <td>Лицо 05</td>\n",
       "      <td>1120</td>\n",
       "    </tr>\n",
       "    <tr>\n",
       "      <th>4</th>\n",
       "      <td>Лицо 01</td>\n",
       "      <td>Лицо 08</td>\n",
       "      <td>2015</td>\n",
       "    </tr>\n",
       "    <tr>\n",
       "      <th>5</th>\n",
       "      <td>Лицо 01</td>\n",
       "      <td>Лицо 10</td>\n",
       "      <td>1185</td>\n",
       "    </tr>\n",
       "    <tr>\n",
       "      <th>...</th>\n",
       "      <td>...</td>\n",
       "      <td>...</td>\n",
       "      <td>...</td>\n",
       "    </tr>\n",
       "    <tr>\n",
       "      <th>80</th>\n",
       "      <td>Лицо 14</td>\n",
       "      <td>Лицо 03</td>\n",
       "      <td>150</td>\n",
       "    </tr>\n",
       "    <tr>\n",
       "      <th>81</th>\n",
       "      <td>Лицо 14</td>\n",
       "      <td>Лицо 06</td>\n",
       "      <td>410</td>\n",
       "    </tr>\n",
       "    <tr>\n",
       "      <th>82</th>\n",
       "      <td>Лицо 14</td>\n",
       "      <td>Лицо 07</td>\n",
       "      <td>400</td>\n",
       "    </tr>\n",
       "    <tr>\n",
       "      <th>83</th>\n",
       "      <td>Лицо 14</td>\n",
       "      <td>Лицо 09</td>\n",
       "      <td>1295</td>\n",
       "    </tr>\n",
       "    <tr>\n",
       "      <th>84</th>\n",
       "      <td>Лицо 14</td>\n",
       "      <td>Лицо 13</td>\n",
       "      <td>235</td>\n",
       "    </tr>\n",
       "  </tbody>\n",
       "</table>\n",
       "<p>84 rows × 3 columns</p>\n",
       "</div>"
      ],
      "text/plain": [
       "    Должник Кредитор  Cумма долга\n",
       "1   Лицо 01  Лицо 03          285\n",
       "2   Лицо 01  Лицо 04         1320\n",
       "3   Лицо 01  Лицо 05         1120\n",
       "4   Лицо 01  Лицо 08         2015\n",
       "5   Лицо 01  Лицо 10         1185\n",
       "..      ...      ...          ...\n",
       "80  Лицо 14  Лицо 03          150\n",
       "81  Лицо 14  Лицо 06          410\n",
       "82  Лицо 14  Лицо 07          400\n",
       "83  Лицо 14  Лицо 09         1295\n",
       "84  Лицо 14  Лицо 13          235\n",
       "\n",
       "[84 rows x 3 columns]"
      ]
     },
     "execution_count": 10,
     "metadata": {},
     "output_type": "execute_result"
    }
   ],
   "source": [
    "final_result.to_csv('./report', index_label='№')\n",
    "final_result"
   ]
  }
 ],
 "metadata": {
  "kernelspec": {
   "display_name": "Python 3",
   "language": "python",
   "name": "python3"
  },
  "language_info": {
   "codemirror_mode": {
    "name": "ipython",
    "version": 3
   },
   "file_extension": ".py",
   "mimetype": "text/x-python",
   "name": "python",
   "nbconvert_exporter": "python",
   "pygments_lexer": "ipython3",
   "version": "3.8.5"
  }
 },
 "nbformat": 4,
 "nbformat_minor": 4
}
